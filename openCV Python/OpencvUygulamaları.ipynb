{
 "cells": [
  {
   "cell_type": "markdown",
   "id": "a90db1ba-6346-456c-b18f-a494c03a7eef",
   "metadata": {},
   "source": [
    "# Computer Vision\n",
    "\n",
    "Computer Vision bilgisayarların görüntüleri anlamasına ve yorumlamasına yardımcı olur. Görüntülerin veya videoların analizi ve işlenmesi yoluyla, bilgisayarlar görüntülerdeki nesneleri, yüzleri, cisimleri ve diğer özellikleri algılayabilir ve tanıyabilir.\n",
    "\n",
    "Computer Vision görsel işleme, makine öğrenimi ve yapay zeka tekniklerini kullanır. Görüntüler üzerindeki işlemler, piksel düzeyinde başlar ve daha yüksek seviyeli anlamlar ve bilgiler çıkarmak için ilerler. Örneğin, bir görüntüdeki kenarları algılamak, nesneleri tespit etmek veya yüzleri tanımak gibi görevler gerçekleştirilebilir."
   ]
  },
  {
   "cell_type": "markdown",
   "id": "ebfa1415-77ef-4991-9a36-5cfa1cb92932",
   "metadata": {},
   "source": [
    "### OpenCv Kütüphanesi Kullanımı\n",
    "OpenCv kütüphanesi kullanarak aşağıdaki işlemler yapılabilir:\n",
    "\n",
    "1- \n",
    "2- \n",
    "3- \n",
    ".\n",
    "."
   ]
  },
  {
   "cell_type": "markdown",
   "id": "bf8597a7-af19-4875-9ea5-9fb77b63b804",
   "metadata": {},
   "source": [
    "### 0- Kütüphanenin kurulumu"
   ]
  },
  {
   "cell_type": "code",
   "execution_count": 6,
   "id": "df645d4e",
   "metadata": {},
   "outputs": [
    {
     "name": "stdout",
     "output_type": "stream",
     "text": [
      "Note: you may need to restart the kernel to use updated packages.Requirement already satisfied: opencv-python in c:\\users\\salih\\appdata\\local\\programs\\python\\python311\\lib\\site-packages (4.9.0.80)\n",
      "Requirement already satisfied: numpy>=1.21.2 in c:\\users\\salih\\appdata\\local\\programs\\python\\python311\\lib\\site-packages (from opencv-python) (1.26.4)\n",
      "\n"
     ]
    },
    {
     "name": "stderr",
     "output_type": "stream",
     "text": [
      "\n",
      "[notice] A new release of pip available: 22.3.1 -> 24.0\n",
      "[notice] To update, run: python.exe -m pip install --upgrade pip\n"
     ]
    }
   ],
   "source": [
    "pip install opencv-python"
   ]
  },
  {
   "cell_type": "code",
   "execution_count": 2,
   "id": "e8300d50-497c-42e1-ac2b-cc458bffa579",
   "metadata": {},
   "outputs": [],
   "source": [
    "import cv2\n",
    "#cv2 kütüphanesini import ettik\n",
    "\n",
    "import numpy as np\n",
    "#numpy kütüphanesini np kısaltması kullanacak şekilde import ettik"
   ]
  },
  {
   "cell_type": "markdown",
   "id": "3a012d5b-7d9d-4b64-82fd-0539628cd9ab",
   "metadata": {},
   "source": [
    "### 1- Değişken Oluşturma"
   ]
  },
  {
   "cell_type": "code",
   "execution_count": 44,
   "id": "16af5290-9980-42ea-86f9-c4266926ae24",
   "metadata": {},
   "outputs": [],
   "source": [
    "resim = cv2.imread(\"aslan.jpg\")\n",
    "#bir resim değişkeni oluşturduk ve resmimizi cv2 ye tanıttık okumasını sağladık\n"
   ]
  },
  {
   "cell_type": "markdown",
   "id": "474f1e1f-1f51-4097-b13b-2997d2f13464",
   "metadata": {},
   "source": [
    "### 2- Resmi Çıktı Gösterme ve Resim Bilgisi"
   ]
  },
  {
   "cell_type": "code",
   "execution_count": 45,
   "id": "3be2c9b7-6708-4de3-9ab5-215ce741fef0",
   "metadata": {},
   "outputs": [],
   "source": [
    "cv2.imshow(\"aslan\",resim)\n",
    "#imshow kullanarak resmi çıktı olarak gösterdik,resim bilgisinde de aslan yazmasını sağladık\n",
    "cv2.waitKey(0)\n",
    "#waitkey metodu ile açtığımız resim biz bir tuşa basana kadar açık kalacaktır\n",
    "cv2.destroyAllWindows()\n",
    "#bu metod sayesinde açılan pencereyi kapattığımızda arka planda çalışan tüm opencv kodları kapanacaktır"
   ]
  },
  {
   "cell_type": "markdown",
   "id": "1384bf1c-b05d-4ff2-a44b-0740b99eba31",
   "metadata": {},
   "source": [
    "### 3- Resim Piksel Matrisleri"
   ]
  },
  {
   "cell_type": "code",
   "execution_count": 46,
   "id": "b265a851-406a-49c5-af2f-3e8cfaf6087f",
   "metadata": {},
   "outputs": [
    {
     "name": "stdout",
     "output_type": "stream",
     "text": [
      "[[[153 150 165]\n",
      "  [153 150 165]\n",
      "  [153 150 165]\n",
      "  ...\n",
      "  [118  99  92]\n",
      "  [118  99  92]\n",
      "  [118  99  92]]\n",
      "\n",
      " [[154 151 166]\n",
      "  [154 151 166]\n",
      "  [154 151 166]\n",
      "  ...\n",
      "  [118  99  92]\n",
      "  [118  99  92]\n",
      "  [118  99  92]]\n",
      "\n",
      " [[154 151 166]\n",
      "  [154 151 166]\n",
      "  [154 151 166]\n",
      "  ...\n",
      "  [118  99  92]\n",
      "  [118  99  92]\n",
      "  [118  99  92]]\n",
      "\n",
      " ...\n",
      "\n",
      " [[ 20  35  44]\n",
      "  [ 21  36  45]\n",
      "  [ 22  37  46]\n",
      "  ...\n",
      "  [ 13  37  65]\n",
      "  [ 13  37  65]\n",
      "  [ 13  37  65]]\n",
      "\n",
      " [[ 19  34  43]\n",
      "  [ 21  36  45]\n",
      "  [ 23  38  47]\n",
      "  ...\n",
      "  [ 28  57  88]\n",
      "  [ 26  57  88]\n",
      "  [ 23  57  87]]\n",
      "\n",
      " [[ 19  34  43]\n",
      "  [ 21  36  45]\n",
      "  [ 23  38  47]\n",
      "  ...\n",
      "  [ 50  79 110]\n",
      "  [ 47  78 109]\n",
      "  [ 45  79 109]]]\n"
     ]
    }
   ],
   "source": [
    "print(resim)\n",
    "#resim dosyamızı yazdırdığımızda resmimizin piksellerini matrislerini bize listeler (BGR)"
   ]
  },
  {
   "cell_type": "markdown",
   "id": "cb042fac",
   "metadata": {},
   "source": [
    "### 4- Resim Hakkında Bilgi"
   ]
  },
  {
   "cell_type": "code",
   "execution_count": 47,
   "id": "1f8e4f00-3502-461b-aadf-2b4f2b72b9d7",
   "metadata": {},
   "outputs": [
    {
     "name": "stdout",
     "output_type": "stream",
     "text": [
      "1607472\n",
      "uint8\n",
      "(549, 976, 3)\n"
     ]
    }
   ],
   "source": [
    "print(resim.size)\n",
    "#resmin boyutunu yazar\n",
    "print(resim.dtype)\n",
    "#resmin taypı nedir onu gösterir\n",
    "print(resim.shape)\n",
    "#resim hakkında daha detaylı(yükseklik,genişlik,kanal)bilgisi verir."
   ]
  },
  {
   "cell_type": "markdown",
   "id": "a17c2d6f",
   "metadata": {},
   "source": [
    "### 5- Piksel Renk Değeri Görme"
   ]
  },
  {
   "cell_type": "code",
   "execution_count": 48,
   "id": "cdd6cedb-70b0-4b92-bb7e-406f08523a2e",
   "metadata": {},
   "outputs": [
    {
     "name": "stdout",
     "output_type": "stream",
     "text": [
      "[161 177 200]\n"
     ]
    }
   ],
   "source": [
    "print(resim[230,80])\n",
    "#belirtilen konumdaki pikselin renk değerlerini gördük (BGR)"
   ]
  },
  {
   "cell_type": "markdown",
   "id": "0a0eedf5",
   "metadata": {},
   "source": [
    "### 6-  Piksel Boyama"
   ]
  },
  {
   "cell_type": "code",
   "execution_count": 49,
   "id": "5cc6ca5b-4cdb-4c00-bb8f-4f372fe40855",
   "metadata": {},
   "outputs": [],
   "source": [
    "for i in range(100):\n",
    "    resim[50,i]=[255,255,255]\n",
    "\n",
    "cv2.imshow(\"aslan\",resim)   \n",
    "cv2.waitKey(0)\n",
    "cv2.destroyAllWindows() \n",
    "\n",
    "#belirtilen piksel konumundan itibaren döngü ile sınırladığımız konuma kadar olan pikselleri beyaza boyadık."
   ]
  },
  {
   "cell_type": "markdown",
   "id": "b5c4e347",
   "metadata": {},
   "source": [
    "### 7- Resim Efektlendirme"
   ]
  },
  {
   "cell_type": "code",
   "execution_count": 50,
   "id": "1b421299-93ba-4bd3-b834-9b7e6a312c1e",
   "metadata": {},
   "outputs": [],
   "source": [
    "resim[:,:,0]=255\n",
    "resim[:,:,1]=100\n",
    "cv2.imshow(\"aslan\",resim)   \n",
    "cv2.waitKey(0)\n",
    "cv2.destroyAllWindows() \n",
    "#bgr renk sayılarını kullanarak resme efekt ekledik"
   ]
  },
  {
   "cell_type": "markdown",
   "id": "61186577",
   "metadata": {},
   "source": [
    "### 8- Belli Bölgeyi Efektlendirme"
   ]
  },
  {
   "cell_type": "code",
   "execution_count": 51,
   "id": "780699fa-ba1e-4afe-98ed-cca0059e16de",
   "metadata": {},
   "outputs": [],
   "source": [
    "resim2= cv2.imread(\"cengiz.jpeg\")\n",
    "resim2[90:120,200:400,0]=255\n",
    "resim2[90:120,200:400,1]=200\n",
    "resim2=cv2.imshow(\"cengizhan\",resim2)\n",
    "cv2.waitKey(0)\n",
    "cv2.destroyAllWindows() \n",
    "#yeni bir resim tanımladık piksel konumlarını ve bgr renk kodlarını kullanarak remin belli bir noktasına efekt ekledik"
   ]
  },
  {
   "cell_type": "markdown",
   "id": "c670b6ba",
   "metadata": {},
   "source": [
    "### 9- Aynalama"
   ]
  },
  {
   "cell_type": "code",
   "execution_count": 52,
   "id": "f4392b19-df68-4bf0-8974-6baead62cb74",
   "metadata": {},
   "outputs": [],
   "source": [
    "import cv2\n",
    "#cv2 kütüphanesini import ettik\n",
    "\n",
    "import numpy as np\n",
    "\n",
    "resim2= cv2.imread(\"cengiz.jpeg\")\n",
    "aynalama= cv2.copyMakeBorder(resim2,200,200,500,500,cv2.BORDER_REFLECT)\n",
    "\n",
    "cv2.imshow(\"Şener\",aynalama)\n",
    "\n",
    "cv2.waitKey(0)\n",
    "cv2.destroyAllWindows() \n",
    "#yeni bir resim tanımladık ardından aynalama adında bir değişken açıp cv2'nin fonksyonlarından olan copyMakeBorder'ı kullandık resmimizi ve üst,alt,sağ,sol çerçevelerden ne kadar \n",
    "#aynalama yapacağımızı belirttik ve çalıştırdık\n"
   ]
  },
  {
   "cell_type": "markdown",
   "id": "492b94b0",
   "metadata": {},
   "source": [
    "### 10- Belli Bölgeyi İşaretleme\n"
   ]
  },
  {
   "cell_type": "code",
   "execution_count": 53,
   "id": "42a66bc3-468c-44c7-ace2-f83b2d611b61",
   "metadata": {},
   "outputs": [],
   "source": [
    "\n",
    "import cv2\n",
    "import numpy as np\n",
    "\n",
    "resim3= cv2.imread(\"scooby.jpeg\")\n",
    "cv2.rectangle(resim3,(150,600),(450,200),[0,0,255],5)\n",
    "cv2.imshow(\"ekip\",resim3)\n",
    "\n",
    "cv2.waitKey(0)\n",
    "cv2.destroyAllWindows() \n",
    "#Resim3 adında bir değişken tanımladık ve resmimizi tanıttık,cv2'nin rectangle fonksyonunu kullanarak bir şekil çizdik girdiğimiz ilk değer sol alt köşenin x ve y değerleri ikinci değer ise sağ üst\n",
    "# üçüncü değer köşeli parantez içerisinde olan renk ve son değer kalınlık "
   ]
  },
  {
   "cell_type": "markdown",
   "id": "4427a8a8",
   "metadata": {},
   "source": [
    "### 11- Grileştirme"
   ]
  },
  {
   "cell_type": "code",
   "execution_count": 54,
   "id": "39071b4b-7e50-4920-945c-8af91e227959",
   "metadata": {},
   "outputs": [],
   "source": [
    "import cv2\n",
    "import numpy as np\n",
    "\n",
    "resim=cv2.imread(\"aslan.jpg\")\n",
    "resimGri=cv2.cvtColor(resim,cv2.COLOR_BGR2GRAY)\n",
    "cv2.imshow(\"gri\",resimGri)\n",
    "cv2.imshow(\"orjinal\",resim)\n",
    "\n",
    "cv2.waitKey(0)\n",
    "cv2.destroyAllWindows() \n",
    "#gerekli import işlemlerinden sonra cv2'nin cvtColor fonksyonunu kullanarak resmi grileştiriyoruz"
   ]
  },
  {
   "cell_type": "markdown",
   "id": "ad78443f",
   "metadata": {},
   "source": [
    "### 12- Resmi İki Kat Büyütme-Küçültme"
   ]
  },
  {
   "cell_type": "code",
   "execution_count": 55,
   "id": "947cfdb4-7757-408b-a599-bf40a73330b4",
   "metadata": {},
   "outputs": [],
   "source": [
    "import cv2\n",
    "import numpy as np\n",
    "\n",
    "resim=cv2.imread(\"aslan.jpg\")\n",
    "ikikatbuyuk=cv2.pyrUp(resim)\n",
    "ikikatkucuk=cv2.pyrDown(resim)\n",
    "cv2.imshow(\"kucuk\",ikikatkucuk)\n",
    "cv2.imshow(\"buyuk\",ikikatbuyuk)\n",
    "\n",
    "cv2.waitKey(0)\n",
    "cv2.destroyAllWindows() \n",
    "#cv2'nin pyrUp ve pyrDown fonksyonlarını kullanarak resmimizi ik kat küçültüp büyütebiliriz\n"
   ]
  },
  {
   "cell_type": "markdown",
   "id": "fa908fca",
   "metadata": {},
   "source": [
    "### 13- Kamera İle Görüntü Alma"
   ]
  },
  {
   "cell_type": "code",
   "execution_count": 24,
   "id": "fffc23d4-6bc7-412e-b776-cde8891ec8a7",
   "metadata": {},
   "outputs": [],
   "source": [
    "import cv2\n",
    "import numpy as np\n",
    "\n",
    "kamera=cv2.VideoCapture(0)\n",
    "#kameramızı tanıttık 0 değeri pc kamerası kullanacağımız anlamına geliyor\n",
    "\n",
    "while True:\n",
    "    ret,goruntu=kamera.read()\n",
    "    #kameranın çalışıp çalışmadığını kontrol etti ve goruntunun içine attı\n",
    "    cv2.imshow(\"salihcankeskin\",goruntu)\n",
    "\n",
    "    if (cv2.waitKey(20) == ord('q')):\n",
    "        break\n",
    "    #20 ms lik fotoğraflar çekerek video yaptı ve q tuşuna basınca döngüden çıkmamızı yani kameranın kapnmasını sağladı\n",
    "kamera.release()\n",
    "#kamerayı serbest bıraktı\n",
    "\n",
    "cv2.destroyAllWindows() \n",
    "\n",
    "\n"
   ]
  },
  {
   "cell_type": "markdown",
   "id": "91373d91",
   "metadata": {},
   "source": [
    "### 14- Videoya Metin Kutusu - Çizgi ve Kutu Ekleme"
   ]
  },
  {
   "cell_type": "code",
   "execution_count": 56,
   "id": "e723b391",
   "metadata": {},
   "outputs": [],
   "source": [
    "import cv2\n",
    "import numpy as np\n",
    "\n",
    "kamera=cv2.VideoCapture(0)\n",
    "#kameramızı tanıttık 0 değeri pc kamerası kullanacağımız anlamına geliyor\n",
    "\n",
    "while True:\n",
    "    ret,goruntu=kamera.read()\n",
    "    #kameranın çalışıp çalışmadığını kontrol etti ve goruntunun içine attı\n",
    "    cv2.rectangle(goruntu,(100,100),(200,200),(0,0,255),5)\n",
    "    #kutu ekleme (değerlerin ne olduğu yukarıdaki kodlarda mevcut)\n",
    "    cv2.line(goruntu,(0,0),(150,150),(0,0,100),2)\n",
    "    #çizgi ekleme\n",
    "    cv2.putText(goruntu,\"Salihcan\",(250,250),cv2.FONT_HERSHEY_COMPLEX,1,(200,0,0),5)\n",
    "    #metin ekleme (cv2.FONT_HERSHEY_COMPLEX font belirler)\n",
    "\n",
    "    cv2.imshow(\"salihcankeskin\",goruntu)\n",
    "\n",
    "    if (cv2.waitKey(20) == ord('q')):\n",
    "        break\n",
    "    #20 ms lik fotoğraflar çekerek video yaptı ve q tuşuna basınca döngüden çıkmamızı yani kameranın kapnmasını sağladı\n",
    "kamera.release()\n",
    "#kamerayı serbest bıraktı\n",
    "\n",
    "cv2.destroyAllWindows() "
   ]
  },
  {
   "cell_type": "markdown",
   "id": "31c80084",
   "metadata": {},
   "source": [
    "### 15- Mean - Median ve Gauss Filtreleme"
   ]
  },
  {
   "cell_type": "code",
   "execution_count": 57,
   "id": "4e0db91d",
   "metadata": {},
   "outputs": [],
   "source": [
    "import cv2\n",
    "import numpy as np\n",
    "\n",
    "gurultu=cv2.imread(\"gurultuluresim.png\")\n",
    "kgurultu=cv2.pyrDown(gurultu)\n",
    "\n",
    "meanFilter=cv2.blur(kgurultu,(5,5))\n",
    "#5x5 lik bir ızgara üzerinden pikselleri ayırır ve orta değerdeki piksele yakın olacak şekilde resmi yumuşatır\n",
    "\n",
    "medianFilter=cv2.medianBlur(kgurultu,5)\n",
    "#kaçlık bir ızgara istiyorsak parametre olarak gireriz ızgaralardaki piksellerin aritmetik ortalamasını alır ve çıkan piksele göre yumuşatma yapar\n",
    "\n",
    "gauss=cv2.GaussianBlur(kgurultu,(3,3),0)\n",
    "#aynı işlevi yani yumuşatma yapar ancak ızgarası çan eğrisi şekilndedirr.\n",
    "\n",
    "cv2.imshow(\"orjinal\",kgurultu)\n",
    "cv2.imshow(\"meanfilter\",meanFilter)\n",
    "cv2.imshow(\"medianfilter\",medianFilter)\n",
    "cv2.imshow(\"gauss\",gauss)\n",
    "\n",
    "cv2.waitKey(0)\n",
    "cv2.destroyAllWindows()"
   ]
  },
  {
   "cell_type": "markdown",
   "id": "be1dc468",
   "metadata": {},
   "source": [
    "### 16- Otomatik Kenarlık Yapma (Auto canny)"
   ]
  },
  {
   "cell_type": "code",
   "execution_count": 58,
   "id": "dbba7c59",
   "metadata": {},
   "outputs": [],
   "source": [
    "import cv2\n",
    "import numpy as np\n",
    "\n",
    "image=cv2.imread(\"ornek1.jpg\")\n",
    "#resmimizi tanımladık\n",
    "\n",
    "\n",
    "\n",
    "def autoCanny(image,sigma=0.75):\n",
    "#otomatik bir fonksyon yapmak için def kullandık ve şartlarımızı belirledik\n",
    "    median=np.median(image)\n",
    "    #fotoğrafın medyanını bulduk yukarıda yapmıştık \n",
    "    lower=int (max(0,(1.0-sigma)*median))\n",
    "    #alt değer olarak tamdan sigmayı çıkardık\n",
    "    upper=int(min(255,(1.0+sigma)*median))\n",
    "    #üst değer olarak da tama sigmayı ekledik\n",
    "    canny=cv2.Canny(image,lower,upper)\n",
    "    #kenarlık olarak bu alt ve üst değerleri referans aldık \n",
    "\n",
    "    return canny\n",
    "\n",
    "wide=cv2.Canny(image,10,220)\n",
    "#kenarlığın şartlarını manuel belirledik detaylı bir kenarlık yakın bir kenarlık yaptık \n",
    "tight=cv2.Canny(image,200,230)\n",
    "#kenarlığın şartlarını manuel belirledik uzak bir kenarlık yaptık \n",
    "auto=autoCanny(image)\n",
    "#yazdığımız otomatik kenarlık fonksyonunu auto adlı değişkene attık\n",
    "\n",
    "cv2.imshow(\"orj\",image)\n",
    "#orjinal fotoğrafı gösterdik\n",
    "cv2.imshow(\"kenarliklilar\",np.hstack([wide,tight,auto]))\n",
    "#yaptığımız kenarlıklı fotoğrafları yan yana dizip tek bir fotoğrafta gösterdik\n",
    "\n",
    "cv2.waitKey(0)\n",
    "cv2.destroyAllWindows()"
   ]
  },
  {
   "cell_type": "markdown",
   "id": "e5c3e3fa",
   "metadata": {},
   "source": [
    "### 17- Web Kamerasından Görüntü Kaydetme"
   ]
  },
  {
   "cell_type": "code",
   "execution_count": 1,
   "id": "6e08e8d2",
   "metadata": {},
   "outputs": [
    {
     "name": "stdout",
     "output_type": "stream",
     "text": [
      "640 360\n"
     ]
    }
   ],
   "source": [
    "import cv2\n",
    "\n",
    "camera=cv2.VideoCapture(0)\n",
    "\n",
    "width=int(camera.get(cv2.CAP_PROP_FRAME_WIDTH))\n",
    "#açılan kamera ızgarasının genişliğini aldık \n",
    "height=int(camera.get(cv2.CAP_PROP_FRAME_HEIGHT))\n",
    "#açılan kamera ızgarasının yüksekliğini aldık \n",
    "\n",
    "print(width,height)\n",
    "\n",
    "fourcc=cv2.VideoWriter_fourcc(*'MP4V')\n",
    "#kayıt edilecek olan görüntü formatını belirttik\n",
    "\n",
    "writer=cv2.VideoWriter(\"kayit.mp4\",fourcc,20,(width,height))\n",
    "#kaydı yazdırdık \n",
    "\n",
    "while True:\n",
    "    ret,frame=camera.read()\n",
    "    writer.write(frame)\n",
    "    cv2.imshow(\"Salihcan Kayit\",frame)\n",
    "\n",
    "    if (cv2.waitKey(25)== ord('q')):\n",
    "        break\n",
    "\n",
    "camera.release()\n",
    "writer.release()\n",
    "#q ya basınca kaydın da durmasını sağladık \n",
    "cv2.destroyAllWindows()\n",
    "\n",
    "#çekilen kaydı kodun bulunduğu dosya içerisinde bulaabilirssiniz.\n"
   ]
  },
  {
   "cell_type": "markdown",
   "id": "6d8ce327",
   "metadata": {},
   "source": [
    "### 18- Resimdeki Yüzleri Bulma"
   ]
  },
  {
   "cell_type": "code",
   "execution_count": 2,
   "id": "f33c715a",
   "metadata": {},
   "outputs": [],
   "source": [
    "import cv2\n",
    "\n",
    "face_cascade=cv2.CascadeClassifier(r\"haarcascade_frontalface_default.xml\")\n",
    "#Yüz tanıması içn yüzlerin bulunduğu xml dosyası\n",
    "img= cv2.imread(r\"yenisalih.png\")\n",
    "gray=cv2.cvtColor(img,cv2.COLOR_BGR2RGB)\n",
    "\n",
    "faces=face_cascade.detectMultiScale(gray,1.1,4)\n",
    "\n",
    "for(x,y,w,h) in faces:\n",
    "    cv2.rectangle(img,(x,y),(x+w,y+h),(0,255,0),3)\n",
    "    #tespit edilen yüz etrafına dikdörtgen çiziyoruz\n",
    "\n",
    "cv2.imshow('img',img)\n",
    "cv2.waitKey(0)\n",
    "cv2.destroyAllWindows()"
   ]
  },
  {
   "cell_type": "markdown",
   "id": "3fb1b49c",
   "metadata": {},
   "source": [
    "### 19-Videodaki Yüzleri Tespit Etme"
   ]
  },
  {
   "cell_type": "code",
   "execution_count": 2,
   "id": "861c4e6d",
   "metadata": {},
   "outputs": [],
   "source": [
    "\n",
    "import cv2\n",
    "\n",
    "face_cascade = cv2.CascadeClassifier(\n",
    "    r\"haarcascade_frontalface_default.xml\")\n",
    "\n",
    "cap = cv2.VideoCapture(r\"videosalih.mp4\")\n",
    "while cap.isOpened():\n",
    "    _,img = cap.read()\n",
    "\n",
    "   \n",
    "    gray = cv2.cvtColor(img, cv2.COLOR_BGR2RGB)\n",
    "\n",
    "    faces = face_cascade.detectMultiScale(gray,1.1,4)\n",
    "\n",
    "    for(x,y,w,h) in faces:\n",
    "        cv2.rectangle(img,(x,y),(x+w, y+h),(0,255,0),3)\n",
    "\n",
    "    cv2.imshow('img',img)\n",
    "    if (cv2.waitKey(25)== ord('q')):\n",
    "        break\n",
    "\n",
    "cap.release()"
   ]
  },
  {
   "cell_type": "code",
   "execution_count": null,
   "id": "94636b6e",
   "metadata": {},
   "outputs": [],
   "source": []
  }
 ],
 "metadata": {
  "kernelspec": {
   "display_name": "Python 3 (ipykernel)",
   "language": "python",
   "name": "python3"
  },
  "language_info": {
   "codemirror_mode": {
    "name": "ipython",
    "version": 3
   },
   "file_extension": ".py",
   "mimetype": "text/x-python",
   "name": "python",
   "nbconvert_exporter": "python",
   "pygments_lexer": "ipython3",
   "version": "3.11.2"
  }
 },
 "nbformat": 4,
 "nbformat_minor": 5
}
